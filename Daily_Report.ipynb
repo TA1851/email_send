{
 "cells": [
  {
   "cell_type": "code",
   "execution_count": 7,
   "id": "9770d269",
   "metadata": {},
   "outputs": [],
   "source": [
    "import win32com.client"
   ]
  },
  {
   "cell_type": "code",
   "execution_count": 8,
   "id": "2c469d83",
   "metadata": {},
   "outputs": [],
   "source": [
    "outlook = win32com.client.Dispatch(\"Outlook.Application\")\n",
    "mail = outlook.CreateItem(0)"
   ]
  },
  {
   "cell_type": "code",
   "execution_count": 9,
   "id": "83f1b40b",
   "metadata": {},
   "outputs": [],
   "source": [
    "mail.to = 'yawatanabe@micron.com;'\n",
    "mail.cc = 'mosano@micron.com;ofushitani@micron.com;'\n",
    "mail.subject = 'Daily_Report'\n",
    "mail.bodyFormat = 1\n",
    "mail.body = '''本日の作業日報を送付します。\n",
    "\n",
    "1. 残業申請 Automation tool test\n",
    "\n",
    "明日の予定\n",
    "\n",
    "'''\n",
    "# mail app が起動する（内容確認）\n",
    "mail.display(True)"
   ]
  },
  {
   "cell_type": "code",
   "execution_count": null,
   "id": "3ad43211",
   "metadata": {},
   "outputs": [],
   "source": []
  }
 ],
 "metadata": {
  "kernelspec": {
   "display_name": "Python 3",
   "language": "python",
   "name": "python3"
  },
  "language_info": {
   "codemirror_mode": {
    "name": "ipython",
    "version": 3
   },
   "file_extension": ".py",
   "mimetype": "text/x-python",
   "name": "python",
   "nbconvert_exporter": "python",
   "pygments_lexer": "ipython3",
   "version": "3.8.8"
  }
 },
 "nbformat": 4,
 "nbformat_minor": 5
}
